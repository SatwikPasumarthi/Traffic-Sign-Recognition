{
 "metadata": {
  "language_info": {
   "codemirror_mode": {
    "name": "ipython",
    "version": 3
   },
   "file_extension": ".py",
   "mimetype": "text/x-python",
   "name": "python",
   "nbconvert_exporter": "python",
   "pygments_lexer": "ipython3",
   "version": "3.8.10"
  },
  "orig_nbformat": 2,
  "kernelspec": {
   "name": "python3810jvsc74a57bd056131b4c44d2d96557cd239860fdcd29f3af8c8f5077aad70ea11925b7bbcc0d",
   "display_name": "Python 3.8.10 64-bit ('ml': conda)"
  }
 },
 "nbformat": 4,
 "nbformat_minor": 2,
 "cells": [
  {
   "cell_type": "code",
   "execution_count": 2,
   "metadata": {},
   "outputs": [],
   "source": [
    "path=\"C:\\\\Users\\\\pasum\\\\Desktop\\\\TrafficSigns Recognition\\\\myData\""
   ]
  },
  {
   "cell_type": "code",
   "execution_count": 3,
   "metadata": {},
   "outputs": [],
   "source": [
    "labelsFile=\"C:\\\\Users\\\\pasum\\\\Desktop\\\\TrafficSigns Recognition\\\\labels.csv\""
   ]
  },
  {
   "cell_type": "code",
   "execution_count": 4,
   "metadata": {},
   "outputs": [],
   "source": [
    "import os\n",
    "import cv2"
   ]
  },
  {
   "cell_type": "code",
   "execution_count": 5,
   "metadata": {},
   "outputs": [],
   "source": [
    "myList=os.listdir(path)\n",
    "noOfClasses=len(myList)"
   ]
  },
  {
   "cell_type": "code",
   "execution_count": 6,
   "metadata": {},
   "outputs": [
    {
     "output_type": "stream",
     "name": "stdout",
     "text": [
      "Importing Classes...\n",
      "0  Done\n",
      "1  Done\n",
      "2  Done\n",
      "3  Done\n",
      "4  Done\n",
      "5  Done\n",
      "6  Done\n",
      "7  Done\n",
      "8  Done\n",
      "9  Done\n",
      "10  Done\n",
      "11  Done\n",
      "12  Done\n",
      "13  Done\n",
      "14  Done\n",
      "15  Done\n",
      "16  Done\n",
      "17  Done\n",
      "18  Done\n",
      "19  Done\n",
      "20  Done\n",
      "21  Done\n",
      "22  Done\n",
      "23  Done\n",
      "24  Done\n",
      "25  Done\n",
      "26  Done\n",
      "27  Done\n",
      "28  Done\n",
      "29  Done\n",
      "30  Done\n",
      "31  Done\n",
      "32  Done\n",
      "33  Done\n",
      "34  Done\n",
      "35  Done\n",
      "36  Done\n",
      "37  Done\n",
      "38  Done\n",
      "39  Done\n",
      "40  Done\n",
      "41  Done\n",
      "42  Done\n"
     ]
    }
   ],
   "source": [
    "images=[]\n",
    "classNo=[]\n",
    "print(\"Importing Classes...\")\n",
    "for i in range(0,noOfClasses):\n",
    "    myPicList=os.listdir(path + \"/\" + str(i))\n",
    "    for y in myPicList:\n",
    "        Img=cv2.imread(path + \"/\" + str(i) + \"/\" + y)\n",
    "        images.append(Img)\n",
    "        classNo.append(i)\n",
    "    print(i, \" Done\")"
   ]
  },
  {
   "cell_type": "code",
   "execution_count": 7,
   "metadata": {},
   "outputs": [],
   "source": [
    "import numpy as np\n",
    "images=np.array(images)\n",
    "classNo=np.array(classNo)"
   ]
  },
  {
   "cell_type": "code",
   "execution_count": 8,
   "metadata": {},
   "outputs": [
    {
     "output_type": "execute_result",
     "data": {
      "text/plain": [
       "<tensorflow.python.training.tracking.util.CheckpointLoadStatus at 0x1fecc971d00>"
      ]
     },
     "metadata": {},
     "execution_count": 8
    }
   ],
   "source": [
    "from keras.models import model_from_json\n",
    "# load json and create model\n",
    "file = open('traffic_json_file', 'r')\n",
    "model_json = file.read()\n",
    "file.close()\n",
    "loaded_model = model_from_json(model_json)\n",
    "# load weights\n",
    "loaded_model.load_weights('traffic_h5_file')"
   ]
  },
  {
   "cell_type": "code",
   "execution_count": 9,
   "metadata": {},
   "outputs": [],
   "source": [
    "def grayscale(img):\n",
    "    img=cv2.cvtColor(img,cv2.COLOR_BGR2GRAY)\n",
    "    return img\n",
    "def equalize(img):\n",
    "    img=cv2.equalizeHist(img)\n",
    "    return img\n",
    "def preprocessing(img):\n",
    "    img=grayscale(img)\n",
    "    img=equalize(img)\n",
    "    img=img/255\n",
    "    return img\n",
    "    "
   ]
  },
  {
   "cell_type": "code",
   "execution_count": 10,
   "metadata": {},
   "outputs": [
    {
     "output_type": "execute_result",
     "data": {
      "text/plain": [
       "False"
      ]
     },
     "metadata": {},
     "execution_count": 10
    }
   ],
   "source": [
    "cap=cv2.VideoCapture(0)\n",
    "cap.set(3,640)\n",
    "cap.set(4,480)\n",
    "cap.set(10,180)\n"
   ]
  },
  {
   "cell_type": "code",
   "execution_count": 11,
   "metadata": {},
   "outputs": [],
   "source": [
    "import numpy as np\n",
    "import cv2\n",
    "\n",
    " \n",
    "\n",
    "def getCalssName(classNo):\n",
    "    if   classNo == 0: return 'Speed Limit 20 km/h'\n",
    "    elif classNo == 1: return 'Speed Limit 30 km/h'\n",
    "    elif classNo == 2: return 'Speed Limit 50 km/h'\n",
    "    elif classNo == 3: return 'Speed Limit 60 km/h'\n",
    "    elif classNo == 4: return 'Speed Limit 70 km/h'\n",
    "    elif classNo == 5: return 'Speed Limit 80 km/h'\n",
    "    elif classNo == 6: return 'End of Speed Limit 80 km/h'\n",
    "    elif classNo == 7: return 'Speed Limit 100 km/h'\n",
    "    elif classNo == 8: return 'Speed Limit 120 km/h'\n",
    "    elif classNo == 9: return 'No passing'\n",
    "    elif classNo == 10: return 'No passing for vechiles over 3.5 metric tons'\n",
    "    elif classNo == 11: return 'Right-of-way at the next intersection'\n",
    "    elif classNo == 12: return 'Priority road'\n",
    "    elif classNo == 13: return 'Yield'\n",
    "    elif classNo == 14: return 'Stop'\n",
    "    elif classNo == 15: return 'No vechiles'\n",
    "    elif classNo == 16: return 'Vechiles over 3.5 metric tons prohibited'\n",
    "    elif classNo == 17: return 'No entry'\n",
    "    elif classNo == 18: return 'General caution'\n",
    "    elif classNo == 19: return 'Dangerous curve to the left'\n",
    "    elif classNo == 20: return 'Dangerous curve to the right'\n",
    "    elif classNo == 21: return 'Double curve'\n",
    "    elif classNo == 22: return 'Bumpy road'\n",
    "    elif classNo == 23: return 'Slippery road'\n",
    "    elif classNo == 24: return 'Road narrows on the right'\n",
    "    elif classNo == 25: return 'Road work'\n",
    "    elif classNo == 26: return 'Traffic signals'\n",
    "    elif classNo == 27: return 'Pedestrians'\n",
    "    elif classNo == 28: return 'Children crossing'\n",
    "    elif classNo == 29: return 'Bicycles crossing'\n",
    "    elif classNo == 30: return 'Beware of ice/snow'\n",
    "    elif classNo == 31: return 'Wild animals crossing'\n",
    "    elif classNo == 32: return 'End of all speed and passing limits'\n",
    "    elif classNo == 33: return 'Turn right ahead'\n",
    "    elif classNo == 34: return 'Turn left ahead'\n",
    "    elif classNo == 35: return 'Ahead only'\n",
    "    elif classNo == 36: return 'Go straight or right'\n",
    "    elif classNo == 37: return 'Go straight or left'\n",
    "    elif classNo == 38: return 'Keep right'\n",
    "    elif classNo == 39: return 'Keep left'\n",
    "    elif classNo == 40: return 'Roundabout mandatory'\n",
    "    elif classNo == 41: return 'End of no passing'\n",
    "    elif classNo == 42: return 'End of no passing by vechiles over 3.5 metric tons'\n"
   ]
  },
  {
   "cell_type": "code",
   "execution_count": 12,
   "metadata": {},
   "outputs": [
    {
     "output_type": "stream",
     "name": "stdout",
     "text": [
      "WARNING:tensorflow:From <ipython-input-12-9c9c74f1c3cc>:13: Sequential.predict_classes (from tensorflow.python.keras.engine.sequential) is deprecated and will be removed after 2021-01-01.\nInstructions for updating:\nPlease use instead:* `np.argmax(model.predict(x), axis=-1)`,   if your model does multi-class classification   (e.g. if it uses a `softmax` last-layer activation).* `(model.predict(x) > 0.5).astype(\"int32\")`,   if your model does binary classification   (e.g. if it uses a `sigmoid` last-layer activation).\n"
     ]
    }
   ],
   "source": [
    "font = cv2.FONT_HERSHEY_SIMPLEX\n",
    "while True:\n",
    "    success,imgOriginal=cap.read()\n",
    "    img=np.asarray(imgOriginal)\n",
    "    img=cv2.resize(img,(32,32))\n",
    "    img=preprocessing(img)\n",
    "    cv2.imshow(\"Processed Image\",img)\n",
    "    img=img.reshape(1,32,32,1)\n",
    "    cv2.putText(imgOriginal,\"Class: \",(20,35),font,0.75,(0,0,255),2,cv2.LINE_AA)\n",
    "    cv2.putText(imgOriginal,\"Acc:   \",(20,75),font,0.75,(0,0,255),2,cv2.LINE_AA)\n",
    "\n",
    "    predictions=loaded_model.predict(img)\n",
    "    classIndex=loaded_model.predict_classes(img)\n",
    "    probabilityValue=np.amax(predictions)\n",
    "    \n",
    "    cv2.putText(imgOriginal,str(classIndex) + \" \"+ str(getCalssName(classIndex)),(120,35),font,0.75,(0,0,255),2,cv2.LINE_AA)\n",
    "    cv2.putText(imgOriginal,str(round(probabilityValue*100,2)) + \"%\",(120,75),font,0.75,(0,0,255),2,cv2.LINE_AA)\n",
    "\n",
    "    cv2.imshow(\"Result\",imgOriginal)\n",
    "    if cv2.waitKey(1) and 0xff==ord(\"q\"):\n",
    "        break\n",
    "cap.release()\n",
    "cv2.destroyAllWindows()"
   ]
  },
  {
   "cell_type": "code",
   "execution_count": null,
   "metadata": {},
   "outputs": [],
   "source": []
  }
 ]
}